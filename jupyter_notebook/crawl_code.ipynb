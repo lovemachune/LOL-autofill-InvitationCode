{
 "cells": [
  {
   "cell_type": "code",
   "execution_count": 99,
   "metadata": {},
   "outputs": [],
   "source": [
    "import sys\n",
    "import time\n",
    "import re\n",
    "import requests\n",
    "import argparse\n",
    "from bs4 import BeautifulSoup"
   ]
  },
  {
   "cell_type": "code",
   "execution_count": 100,
   "metadata": {
    "scrolled": true
   },
   "outputs": [],
   "source": [
    "HEADERS = {\n",
    "    'User-Agent': 'Mozilla/5.0 (Windows NT 10.0; Win64; x64) AppleWebKit/537.36 (KHTML, like Gecko) Chrome/81.0.4044.92 Safari/537.36',\n",
    "}\n",
    "url = 'https://forum.gamer.com.tw/ajax/moreCommend.php?bsn=17532&snB=5838400&returnHtml=1&next_snC=2952519'\n",
    "res = requests.get(url, headers=HEADERS)\n",
    "commends_duct = res.json()"
   ]
  },
  {
   "cell_type": "code",
   "execution_count": 101,
   "metadata": {
    "scrolled": true
   },
   "outputs": [],
   "source": [
    "commends_duct = res.json()\n",
    "reply = list(commends_duct.items())\n",
    "soup = BeautifulSoup(str(reply[1][1]), 'html.parser')\n",
    "divs = soup.find_all(\"div\", class_ = \"c-reply__item\")\n",
    "i = 0\n",
    "comments = []\n",
    "for div in divs:\n",
    "    s = div.find('span').string #13 char\n",
    "    s = re.findall('(LOL+\\w{10})', s)\n",
    "    for sub_s in s:\n",
    "        comments.append(sub_s)"
   ]
  },
  {
   "cell_type": "code",
   "execution_count": 102,
   "metadata": {},
   "outputs": [],
   "source": [
    "f = open(\"invite_code.txt\", 'w')\n",
    "for comment in comments:\n",
    "    f.write(comment+'\\n')\n",
    "f.close()"
   ]
  },
  {
   "cell_type": "code",
   "execution_count": null,
   "metadata": {},
   "outputs": [],
   "source": []
  }
 ],
 "metadata": {
  "kernelspec": {
   "display_name": "Python 3",
   "language": "python",
   "name": "python3"
  },
  "language_info": {
   "codemirror_mode": {
    "name": "ipython",
    "version": 3
   },
   "file_extension": ".py",
   "mimetype": "text/x-python",
   "name": "python",
   "nbconvert_exporter": "python",
   "pygments_lexer": "ipython3",
   "version": "3.8.3"
  }
 },
 "nbformat": 4,
 "nbformat_minor": 4
}
